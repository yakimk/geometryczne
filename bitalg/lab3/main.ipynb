{
 "cells": [
  {
   "cell_type": "code",
   "execution_count": 1,
   "metadata": {},
   "outputs": [],
   "source": [
    "import numpy as np\n",
    "import pandas as pd\n",
    "import matplotlib.pyplot as plt\n",
    "from bitalg.tests.test3 import Test\n",
    "from bitalg.visualizer.main import Visualizer"
   ]
  },
  {
   "cell_type": "markdown",
   "metadata": {},
   "source": [
    "# Triangulacja wielokątów monotonicznych - problem monitorowania galerii\n"
   ]
  },
  {
   "cell_type": "markdown",
   "metadata": {},
   "source": [
    "## Przydatne funkcje\n"
   ]
  },
  {
   "cell_type": "code",
   "execution_count": 2,
   "metadata": {},
   "outputs": [],
   "source": [
    "polygon_example_1 = [(5,5), (3,4), (6,3), (4,2), (6,0), (7,1), (8,4)]\n",
    "polygon_example_2 = [(4, 1), (2, 2), (3, 5), (4, 7), (6, 6), (3, 9), (6, 8), (9, 10), (7, 4), (4, 3), (5, 0)]\n",
    "polygon_example_colors = [4,4,4,4,3,0,2,0,4,4,1]\n",
    "polygon_example_tri = [(polygon_example_1[0], polygon_example_1[2]),\n",
    "                      (polygon_example_1[2], polygon_example_1[5]),\n",
    "                      (polygon_example_1[2], polygon_example_1[6]),\n",
    "                      (polygon_example_1[6], polygon_example_1[3]),\n",
    "                      (polygon_example_1[2], polygon_example_1[4]),]\n",
    "       "
   ]
  },
  {
   "cell_type": "code",
   "execution_count": 3,
   "metadata": {},
   "outputs": [],
   "source": [
    "def draw_polygon(polygon):\n",
    "    vis = Visualizer()\n",
    "    points = polygon\n",
    "    vis.add_polygon(polygon, fill=False)\n",
    "    vis.show()\n"
   ]
  },
  {
   "cell_type": "code",
   "execution_count": 4,
   "metadata": {},
   "outputs": [],
   "source": [
    "def draw_polygon_colors(polygon,colors):\n",
    "    points_start=[]\n",
    "    points_end=[]\n",
    "    points_connect=[]\n",
    "    points_divide=[]\n",
    "    points_regular=[]\n",
    "    for i in range(len(polygon)):\n",
    "        if colors[i]==0:\n",
    "            points_start.append(polygon[i])\n",
    "        elif colors[i]==1:\n",
    "            points_end.append(polygon[i])\n",
    "        elif colors[i]==2:\n",
    "            points_connect.append(polygon[i])\n",
    "        elif colors[i]==3:\n",
    "            points_divide.append(polygon[i])\n",
    "        elif colors[i]==4:\n",
    "            points_regular.append(polygon[i])\n",
    "\n",
    "    vis = Visualizer()\n",
    "    colors_start = ['green']\n",
    "    color_end=['red']\n",
    "    color_connect=['blue']\n",
    "    color_divide=['cyan']\n",
    "    color_regular=['#3B240B']\n",
    "    vis.add_polygon(polygon, fill=False)\n",
    "    vis.add_point(points_start, color=colors_start)\n",
    "    vis.add_point(points_end, color=color_end)\n",
    "    vis.add_point(points_connect, color=color_connect)\n",
    "    vis.add_point(points_divide, color=color_divide)\n",
    "    vis.add_point(points_regular, color=color_regular)\n",
    "    vis.show()\n"
   ]
  },
  {
   "cell_type": "code",
   "execution_count": 5,
   "metadata": {},
   "outputs": [],
   "source": [
    "def draw_polygon_tri(polygon,tri):\n",
    "\n",
    "    vis = Visualizer()\n",
    "    points = polygon\n",
    "    tri_line_segments = tri\n",
    "    vis.add_polygon(points, fill=False)\n",
    "    vis.add_point(points)\n",
    "    vis.add_line_segment(tri_line_segments, color='red')\n",
    "    vis.show()\n"
   ]
  },
  {
   "cell_type": "code",
   "execution_count": 11,
   "metadata": {},
   "outputs": [],
   "source": [
    "def direction(a, b, c):\n",
    "    return (b[0] - a[0]) * (c[1] - a[1]) - ((c[0] - a[0]) * (b[1] - a[1]))\n",
    "\n",
    "def distance_squared(point1, point2):\n",
    "    return (point1[0] - point2[0])**2 + (point1[1] - point2[1])**2"
   ]
  },
  {
   "cell_type": "markdown",
   "metadata": {},
   "source": [
    "## Wprowadzenie\n",
    "Celem ćwiczenia jest:\n",
    "- sprawdzanie $y$-monotoniczności\n",
    "- podział wierchołków na kategorie\n",
    "- triangulacja wielokąta monotonicznego"
   ]
  },
  {
   "cell_type": "markdown",
   "metadata": {},
   "source": [
    "### Przykładowy wielokąt $y$-monotoniczny"
   ]
  },
  {
   "cell_type": "code",
   "execution_count": 6,
   "metadata": {},
   "outputs": [
    {
     "data": {
      "image/png": "[encoded data removed]",
      "text/plain": [
       "<Figure size 640x480 with 1 Axes>"
      ]
     },
     "metadata": {},
     "output_type": "display_data"
    }
   ],
   "source": [
    "draw_polygon(polygon_example_2)"
   ]
  },
  {
   "cell_type": "markdown",
   "metadata": {},
   "source": [
    "Do tego celu wygeneruj wielokąt."
   ]
  },
  {
   "cell_type": "code",
   "execution_count": 7,
   "metadata": {},
   "outputs": [],
   "source": [
    "polygon = polygon_example_1"
   ]
  },
  {
   "cell_type": "markdown",
   "metadata": {},
   "source": [
    "## Czy wielokąt jest $y$-monotoniczny?"
   ]
  },
  {
   "cell_type": "markdown",
   "metadata": {},
   "source": [
    "Wielokąt jest monotoniczny, gdy jego wierzchołki mogą być ułożone w taki sposób, że jedna z jego współrzędnych (na przykład współrzędna $x$ lub $y$, w zależności od układu współrzędnych) zawsze rośnie lub maleje wzdłuż kolejnych wierzchołków. Innymi słowy, dla każdej pary wierzchołków wielokąta (oprócz wierzchołka startowego i końcowego), jeden z punktów ma większą (lub mniejszą) wartość danej współrzędnej niż drugi punkt.\n",
    "\n",
    "W praktyce, wielokąt monotoniczny może być łatwiej sortowany lub przetwarzany w pewnych algorytmach geometrycznych, ponieważ istnieje pewna kolejność, w jakiej wierzchołki pojawiają się wzdłuż danej osi (np. osi $x$ lub $y$). Monotoniczność może ułatwić znajdowanie przecięć linii w takim wielokącie lub wykonywanie innych operacji geometrycznych. W tym zadaniu interesuje nas monotoniczność wielokąta wzdłuż osi $y$."
   ]
  },
  {
   "cell_type": "markdown",
   "metadata": {},
   "source": [
    "<span style=\"color:red\">Ćw.</span> Uzupełnij funkcję ```is_y_monotonic```. Pamiętaj, aby sprawozdanie zawierało krótki opis działania tej funkcji."
   ]
  },
  {
   "cell_type": "code",
   "execution_count": 14,
   "metadata": {},
   "outputs": [],
   "source": [
    "def is_y_monotonic(polygon):\n",
    "    \"\"\"\n",
    "    Funkcja określa czy podana figura jest y-monotoniczna.\n",
    "    :param polygon: tablica krotek punktów na płaszczyźnie euklidesowej podanych przeciwnie do ruchu wskazówek zegara - nasz wielokąt\n",
    "    :return: wartość bool - true, jeśli wielokąt jest monotoniczny i false jeśli nie jest\n",
    "    \"\"\"\n",
    "    for i in range(0, len(polygon)-1):\n",
    "        if connective_or_separative(polygon[i-1], polygon[i], polygon[i+1]):\n",
    "            return False\n",
    "    \n",
    "    if connective_or_separative(polygon[-2], polygon[-1], polygon[0]):\n",
    "        return False\n",
    "    return True\n",
    "\n",
    "def connective_or_separative(a, b, c, eps = 10 ** (-12)):\n",
    "    determinant = direction(a, b, c)\n",
    "    if a[1] > b[1] and c[1] > b[1] and determinant < -eps:\n",
    "        return True\n",
    "    elif a[1] < b[1] and c[1] < b[1] and determinant < -eps:\n",
    "        return True\n",
    "    return False\n",
    "    \n",
    "def is_less(polygon, i, j, ind):\n",
    "    return ((polygon[i][ind] < polygon[j][ind]) or (polygon[i][ind] == polygon[j][ind] and i < j))"
   ]
  },
  {
   "cell_type": "markdown",
   "metadata": {},
   "source": [
    "Przeprowadź test poprawności powyższej funkcji."
   ]
  },
  {
   "cell_type": "code",
   "execution_count": 15,
   "metadata": {},
   "outputs": [
    {
     "name": "stdout",
     "output_type": "stream",
     "text": [
      "Lab 3, task 1:\n",
      "\tTest 1: Passed\n",
      "\tTest 2: Passed\n",
      "\tTest 3: Passed\n",
      "\tTest 4: Passed\n",
      "\tTest 5: Passed\n",
      "\tTest 6: Passed\n",
      "\tTest 7: Passed\n",
      "\tTest 8: Passed\n",
      "\tTest 9: Passed\n",
      "\tTest 10: Passed\n",
      "Result: 10/10\n",
      "Time: 0.002s\n"
     ]
    }
   ],
   "source": [
    "Test().runtest(1, is_y_monotonic)"
   ]
  },
  {
   "cell_type": "markdown",
   "metadata": {},
   "source": [
    "Sprawdź monotoniczność swojego wielokątu."
   ]
  },
  {
   "cell_type": "code",
   "execution_count": 18,
   "metadata": {},
   "outputs": [
    {
     "name": "stdout",
     "output_type": "stream",
     "text": [
      "True\n"
     ]
    }
   ],
   "source": [
    "print(is_y_monotonic(polygon))"
   ]
  },
  {
   "cell_type": "markdown",
   "metadata": {},
   "source": [
    "***"
   ]
  },
  {
   "cell_type": "markdown",
   "metadata": {},
   "source": [
    "# Podział wierzchołków na kategorie"
   ]
  },
  {
   "cell_type": "markdown",
   "metadata": {},
   "source": [
    "Wierzchołki naszego wielokąta możemy podzielić na parę kategorii:\n",
    "- początkowe, gdy obaj jego sąsiedzi leżą poniżej i kąt wewnętrzny ma mniej niż 180 stopni. To wierzchołki, w których wielokąt zaczyna się monotoniczny spadek \n",
    "- końcowe, gdy obaj jego sąsiedzi leżą powyżej i kąt wewnętrzny ma mniej niż 180 stopni. To wierzchołki, w których monotoniczność wielokąta się zmienia, czyli na przykład zaczyna się monotoniczny wzrost, jeśli wcześniej był spadek, lub na odwrót.\n",
    "\n",
    "Wierzchołki startowe i końcowe są ważne w kontekście algorytmów przetwarzania wielokątów monotonicznych, takich jak algorytmy dziel i zwyciężaj oraz triangulacji. \n",
    "- dzielący, gdy obaj jego sąsiedzi leżą poniżej i kąt wewnęntrzny ma więcej niż 180 stopni. To wierzchołki, które wyznaczają przekątne (linie łączące), tworzące trójkąty podczas triangulacji.\n",
    "- łączący, gdy obaj jego sąsiedzi leżą powyżej i kąt wewnęntrzny ma więcej niż 180 stopni. To wierzchołki, które są połączone liniami (przekątnymi) wewnątrz wielokąta, tworząc trójkąty.\n",
    "\n",
    "Wierzchołki łączące i dzielące odgrywają kluczową rolę w procesie triangulacji wielokątów, pozwalając na podział figury na trójkąty w sposób bezkolizyjny. \n",
    "- prawdiłowy, pozostałe przypadki, jeden sąsiad powyżej drugi poniżej\n"
   ]
  },
  {
   "cell_type": "markdown",
   "metadata": {},
   "source": [
    "### Przykładowy wielokąt z pokolorowanymi wierzchołkami."
   ]
  },
  {
   "cell_type": "code",
   "execution_count": null,
   "metadata": {},
   "outputs": [],
   "source": [
    "draw_polygon_colors(polygon_example_2,polygon_example_colors)"
   ]
  },
  {
   "cell_type": "markdown",
   "metadata": {},
   "source": [
    "<span style=\"color:red\">Ćw.</span> Uzupełnij funkcję ```color_vertex``` ."
   ]
  },
  {
   "cell_type": "code",
   "execution_count": 16,
   "metadata": {},
   "outputs": [],
   "source": [
    "def color_vertex(polygon):\n",
    "    \"\"\"\n",
    "\n",
    "    Funkcja dzieli wierzchołki na kategorie i przypisuje wierzchołkom odpowiednie numery: 0 - początkowy, 1 - końcowy, 2 - łączący, 3 - dzielący, 4 - prawdiłowy\n",
    "    :param polygon: tablica krotek punktów na płaszczyźnie euklidesowej podanych przeciwnie do ruchu wskazówek zegara - nasz wielokąt\n",
    "    :return: tablica o długości n, gdzie n = len(polygon), zawierająca cyfry z przedziału 0 - 4, gdzie T[i] odpowiada kategorii i-tego wierzchołka.\n",
    "    \"\"\"\n",
    "    eps = 0\n",
    "    n = len(polygon)\n",
    "    res = []\n",
    "\n",
    "    for i in range(n):\n",
    "        a = polygon[i-1]\n",
    "        b = polygon[i]\n",
    "        c = polygon[(i+1)%n]\n",
    "        if a[1] < b[1] and c[1] < b[1]:\n",
    "\n",
    "            # starting\n",
    "            if direction(a, b, c) > eps:\n",
    "                res.append(0)\n",
    "\n",
    "            # separative\n",
    "            elif direction(a, b, c) < -eps:\n",
    "                res.append(3)\n",
    "\n",
    "        # closing or connective or correct\n",
    "        elif a[1] > b[1] and c[1] > b[1]:\n",
    "            # closing\n",
    "            if direction(a, b, c) > eps:\n",
    "                res.append(1)\n",
    "            # connective\n",
    "            elif direction(a, b, c) < -eps:\n",
    "                res.append(2)\n",
    "\n",
    "    # correct\n",
    "        else:\n",
    "            res.append(4)\n",
    "\n",
    "    \n",
    "    return res\n",
    "\n",
    "def get_angle(a,b,c):\n",
    "    return"
   ]
  },
  {
   "cell_type": "markdown",
   "metadata": {},
   "source": [
    "Przeprowadź test poprawności powyższej funkcji. "
   ]
  },
  {
   "cell_type": "code",
   "execution_count": 20,
   "metadata": {},
   "outputs": [
    {
     "name": "stdout",
     "output_type": "stream",
     "text": [
      "Lab 3, task 2:\n",
      "\tTest 1: Passed\n",
      "\tTest 2: Passed\n",
      "\tTest 3: Passed\n",
      "\tTest 4: Passed\n",
      "\tTest 5: Passed\n",
      "\tTest 6: Passed\n",
      "\tTest 7: Passed\n",
      "\tTest 8: Passed\n",
      "\tTest 9: Passed\n",
      "\tTest 10: Passed\n",
      "Result: 10/10\n",
      "Time: 0.003s\n"
     ]
    }
   ],
   "source": [
    "Test().runtest(2, color_vertex)"
   ]
  },
  {
   "cell_type": "markdown",
   "metadata": {},
   "source": [
    "Zwizualizuj swój wielokąt z pokolorowanymi według kategorii wierzchołkami."
   ]
  },
  {
   "cell_type": "code",
   "execution_count": 21,
   "metadata": {},
   "outputs": [
    {
     "name": "stdout",
     "output_type": "stream",
     "text": [
      "[(5, 5), (3, 4), (6, 3), (4, 2), (6, 0), (7, 1), (8, 4)] [0, 4, 4, 4, 1, 4, 4]\n"
     ]
    },
    {
     "data": {
      "image/png": "[encoded data removed]",
      "text/plain": [
       "<Figure size 640x480 with 1 Axes>"
      ]
     },
     "metadata": {},
     "output_type": "display_data"
    }
   ],
   "source": [
    "colors = color_vertex(polygon)\n",
    "draw_polygon_colors(polygon,colors)"
   ]
  },
  {
   "cell_type": "markdown",
   "metadata": {},
   "source": [
    "***"
   ]
  },
  {
   "cell_type": "markdown",
   "metadata": {},
   "source": [
    "# Triangulacja wielokąta monotonicznego"
   ]
  },
  {
   "cell_type": "markdown",
   "metadata": {},
   "source": [
    "Triangulacja wielokąta monotonicznego to proces podziału wielokąta monotonicznego na trójkąty poprzez dodawanie przekątnych (linii łączących wierzchołki), które nie przecinają się wewnętrznie."
   ]
  },
  {
   "cell_type": "markdown",
   "metadata": {},
   "source": [
    "### Przykładowy wielokąt podzielony na trójkąty."
   ]
  },
  {
   "cell_type": "code",
   "execution_count": 23,
   "metadata": {},
   "outputs": [
    {
     "data": {
      "image/png": "[encoded data removed]",
      "text/plain": [
       "<Figure size 640x480 with 1 Axes>"
      ]
     },
     "metadata": {},
     "output_type": "display_data"
    }
   ],
   "source": [
    "draw_polygon_tri(polygon_example_1,polygon_example_tri)"
   ]
  },
  {
   "cell_type": "markdown",
   "metadata": {},
   "source": [
    "<span style=\"color:red\">Ćw.</span> Uzupełnij funkcję ```triangulation```. Wykorzystaj algorytm opisany na wykładzie."
   ]
  },
  {
   "cell_type": "code",
   "execution_count": 26,
   "metadata": {},
   "outputs": [
    {
     "name": "stdout",
     "output_type": "stream",
     "text": [
      "[False, False]\n"
     ]
    },
    {
     "data": {
      "text/plain": [
       "([False, False], [False, False])"
      ]
     },
     "execution_count": 26,
     "metadata": {},
     "output_type": "execute_result"
    }
   ],
   "source": [
    "def separate_chains(polygon):\n",
    "    n = len(polygon)\n",
    "    right = left = [False for i in range(n)]\n",
    "    \n",
    "    ind_y = polygon.index(min(polygon, key = lambda point: point[1]))\n",
    "\n",
    "    \n",
    "\n",
    "    return left, right\n",
    "\n",
    "separate_chains([(0,1), (2,1)])"
   ]
  },
  {
   "cell_type": "code",
   "execution_count": 22,
   "metadata": {},
   "outputs": [],
   "source": [
    "def triangulation(polygon):\n",
    "    \"\"\"\n",
    "\n",
    "    Funkcja dokonuje triangulacji wielokąta monotonicznego. \n",
    "    :param polygon: tablica krotek punktów na płaszczyźnie euklidesowej podanych przeciwnie do ruchu wskazówek zegara - nasz wielokąt\n",
    "    :return: tablica krotek dodawanych po kolei przekątnych np: [(1,5),(2,3)], oznacza, że triangulacja polega na dodaniu przekątnej pomiędzy wierzchołki 1-5 i 2-3\n",
    "    \"\"\"\n",
    "\n",
    "    if not is_y_monotonic(polygon):\n",
    "\n",
    "        return\n",
    "    \n",
    "    res = []\n",
    "    n = len(polygon)\n",
    "\n",
    "    s_polygon = sorted(polygon, key = lambda x: x[1], reverse=True)\n",
    "    classification = color_vertex(polygon)\n",
    "    stack = []\n",
    "    \n",
    "\n",
    "    for i in range(n):\n",
    "\n",
    "        pass"
   ]
  },
  {
   "cell_type": "markdown",
   "metadata": {},
   "source": [
    "Jakich struktur można użyć do przechowywania wielokątu, oraz utworzonej triangulacji? Uzasadnij wybór struktury w swoim algorytmie"
   ]
  },
  {
   "cell_type": "markdown",
   "metadata": {},
   "source": [
    "ODPOWIEDŹ: "
   ]
  },
  {
   "cell_type": "markdown",
   "metadata": {},
   "source": [
    "Przeprowadź testy poprawności powyższej funkcji.\n"
   ]
  },
  {
   "cell_type": "code",
   "execution_count": null,
   "metadata": {},
   "outputs": [],
   "source": [
    "Test().runtest(3, triangulation)"
   ]
  },
  {
   "cell_type": "markdown",
   "metadata": {},
   "source": [
    "Zwizualizuj powstały wielokąt podzielony na trójkąty."
   ]
  },
  {
   "cell_type": "code",
   "execution_count": null,
   "metadata": {},
   "outputs": [],
   "source": [
    "tri = triangulation(polygon)\n",
    "draw_polygon_tri(polygon,tri)"
   ]
  }
 ],
 "metadata": {
  "kernelspec": {
   "display_name": "Python 3 (ipykernel)",
   "language": "python",
   "name": "python3"
  },
  "language_info": {
   "codemirror_mode": {
    "name": "ipython",
    "version": 3
   },
   "file_extension": ".py",
   "mimetype": "text/x-python",
   "name": "python",
   "nbconvert_exporter": "python",
   "pygments_lexer": "ipython3",
   "version": "3.9.18"
  }
 },
 "nbformat": 4,
 "nbformat_minor": 2
}
